{
 "cells": [
  {
   "cell_type": "code",
   "execution_count": 1,
   "id": "6f1802c9",
   "metadata": {},
   "outputs": [],
   "source": [
    "import pickle\n",
    "\n",
    "with open('message.pickle', 'wb') as handle:\n",
    "    pickle.dump(message, handle, protocol=pickle.HIGHEST_PROTOCOL)\n",
    "\n",
    "with open('message.pickle', 'rb') as handle:\n",
    "    b = pickle.load(handle)"
   ]
  },
  {
   "cell_type": "code",
   "execution_count": null,
   "id": "3ff0756d",
   "metadata": {},
   "outputs": [
    {
     "name": "stdout",
     "output_type": "stream",
     "text": [
      "video received\n",
      "videos/file_7.MOV\n"
     ]
    }
   ],
   "source": [
    "import telebot\n",
    "\n",
    "bot = telebot.TeleBot(\"5069674898:AAGdHYM4cn-ZqQqbhR2vke34ke8qMos1lTY\", parse_mode=None)\n",
    "\n",
    "WELCOME_MSG = \"👋 Howdy, how are you doing? \\\n",
    "I can convert video to the following formats: *.avi, *.gif, *.mov! \\\n",
    "Just upload a short video for me, and then choose file type you want.\"\n",
    "\n",
    "@bot.message_handler(commands=['start', 'help'])\n",
    "def send_welcome(message):\n",
    "\tbot.reply_to(message, WELCOME_MSG)\n",
    "\n",
    "@bot.message_handler(content_types=['video', 'video_note', 'document'])\n",
    "def handle_docs_video(message):\n",
    "    if message.content_type == 'video_note':\n",
    "        print('video_note eceived')\n",
    "        file_info = bot.get_file(message.video_note.file_id)\n",
    "        file_type = 'mov'\n",
    "    elif message.content_type == 'video':\n",
    "        print('video received')\n",
    "        file_info = bot.get_file(message.video.file_id)\n",
    "        file_type = 'mov'\n",
    "    elif message.content_type == 'document':\n",
    "        print('document received')\n",
    "        file_info = bot.get_file(message.document.file_id)\n",
    "        file_type = b.document.file_name.split('.')[-1].lower()\n",
    "    \n",
    "    if (file_type in ['mov']):\n",
    "        bot.reply_to(message, 'Detected file type: \"{}\". Congrats! It is supported!'.format(file_type))\n",
    "    else:\n",
    "        bot.reply_to(message, 'Detected file type: \"{}\". Sorry is not supported!'.format(file_type))\n",
    "\n",
    "    downloaded_file = bot.download_file(file_info.file_path)\n",
    "    with open('video.mov','wb') as new_file:\n",
    "        new_file.write(downloaded_file)\n",
    "#     with open('message.pickle', 'wb') as handle:\n",
    "#         pickle.dump(message, handle, protocol=pickle.HIGHEST_PROTOCOL)\n",
    "    \n",
    "\n",
    "@bot.message_handler(func=lambda message: True)\n",
    "def echo_all(message):\n",
    "\tbot.reply_to(message, message.text)\n",
    "\n",
    "bot.infinity_polling()"
   ]
  },
  {
   "cell_type": "code",
   "execution_count": 22,
   "id": "c27e3a62",
   "metadata": {},
   "outputs": [],
   "source": [
    "with open('message.pickle', 'rb') as handle:\n",
    "    b = pickle.load(handle)"
   ]
  },
  {
   "cell_type": "code",
   "execution_count": 27,
   "id": "2ade74ec",
   "metadata": {},
   "outputs": [
    {
     "data": {
      "text/plain": [
       "'IMG_2311.MOV'"
      ]
     },
     "execution_count": 27,
     "metadata": {},
     "output_type": "execute_result"
    }
   ],
   "source": [
    "b.document.file_name"
   ]
  },
  {
   "cell_type": "code",
   "execution_count": null,
   "id": "6baa7b47",
   "metadata": {},
   "outputs": [],
   "source": []
  }
 ],
 "metadata": {
  "kernelspec": {
   "display_name": "Python 3",
   "language": "python",
   "name": "python3"
  },
  "language_info": {
   "codemirror_mode": {
    "name": "ipython",
    "version": 3
   },
   "file_extension": ".py",
   "mimetype": "text/x-python",
   "name": "python",
   "nbconvert_exporter": "python",
   "pygments_lexer": "ipython3",
   "version": "3.6.5"
  }
 },
 "nbformat": 4,
 "nbformat_minor": 5
}

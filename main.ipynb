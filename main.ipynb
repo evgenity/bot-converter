{
 "cells": [
  {
   "cell_type": "code",
   "execution_count": 1,
   "id": "8bb2fd23",
   "metadata": {},
   "outputs": [],
   "source": [
    "import pickle\n",
    "\n",
    "with open('message.pickle', 'wb') as handle:\n",
    "    pickle.dump(message, handle, protocol=pickle.HIGHEST_PROTOCOL)\n",
    "\n",
    "with open('message.pickle', 'rb') as handle:\n",
    "    b = pickle.load(handle)"
   ]
  },
  {
   "cell_type": "code",
   "execution_count": null,
   "id": "5897425a",
   "metadata": {},
   "outputs": [
    {
     "name": "stderr",
     "output_type": "stream",
     "text": [
      "2022-01-19 19:16:50,541 (__init__.py:621 MainThread) ERROR - TeleBot: \"Infinity polling exception: [Errno 2] No such file or directory: 'ffmpeg': 'ffmpeg'\"\n",
      "2022-01-19 19:16:50,544 (__init__.py:623 MainThread) ERROR - TeleBot: \"Exception traceback:\n",
      "Traceback (most recent call last):\n",
      "  File \"/Users/evgeni/workspace/bot-converter/venv/lib/python3.6/site-packages/telebot/__init__.py\", line 618, in infinity_polling\n",
      "    allowed_updates=allowed_updates, *args, **kwargs)\n",
      "  File \"/Users/evgeni/workspace/bot-converter/venv/lib/python3.6/site-packages/telebot/__init__.py\", line 664, in polling\n",
      "    self.__threaded_polling(non_stop, interval, timeout, long_polling_timeout, allowed_updates)\n",
      "  File \"/Users/evgeni/workspace/bot-converter/venv/lib/python3.6/site-packages/telebot/__init__.py\", line 726, in __threaded_polling\n",
      "    raise e\n",
      "  File \"/Users/evgeni/workspace/bot-converter/venv/lib/python3.6/site-packages/telebot/__init__.py\", line 686, in __threaded_polling\n",
      "    self.worker_pool.raise_exceptions()\n",
      "  File \"/Users/evgeni/workspace/bot-converter/venv/lib/python3.6/site-packages/telebot/util.py\", line 136, in raise_exceptions\n",
      "    raise self.exception_info\n",
      "  File \"/Users/evgeni/workspace/bot-converter/venv/lib/python3.6/site-packages/telebot/util.py\", line 88, in run\n",
      "    task(*args, **kwargs)\n",
      "  File \"<ipython-input-49-774b226a8e5f>\", line 42, in handle_docs_video\n",
      "    ffmpeg.run(stream)\n",
      "  File \"/Users/evgeni/workspace/bot-converter/venv/lib/python3.6/site-packages/ffmpeg/_run.py\", line 320, in run\n",
      "    overwrite_output=overwrite_output,\n",
      "  File \"/Users/evgeni/workspace/bot-converter/venv/lib/python3.6/site-packages/ffmpeg/_run.py\", line 285, in run_async\n",
      "    args, stdin=stdin_stream, stdout=stdout_stream, stderr=stderr_stream\n",
      "  File \"/Library/Frameworks/Python.framework/Versions/3.6/lib/python3.6/subprocess.py\", line 709, in __init__\n",
      "    restore_signals, start_new_session)\n",
      "  File \"/Library/Frameworks/Python.framework/Versions/3.6/lib/python3.6/subprocess.py\", line 1344, in _execute_child\n",
      "    raise child_exception_type(errno_num, err_msg, err_filename)\n",
      "FileNotFoundError: [Errno 2] No such file or directory: 'ffmpeg': 'ffmpeg'\n",
      "\"\n"
     ]
    }
   ],
   "source": [
    "import telebot\n",
    "\n",
    "bot = telebot.TeleBot(\"5069674898:AAGdHYM4cn-ZqQqbhR2vke34ke8qMos1lTY\", parse_mode=None)\n",
    "\n",
    "WELCOME_MSG = \"👋 Howdy, how are you doing? \\\n",
    "I can convert video to the following formats: *.avi, *.gif, *.mov! \\\n",
    "Just upload a short video for me, and then choose file type you want.\"\n",
    "\n",
    "@bot.message_handler(commands=['start', 'help'])\n",
    "def send_welcome(message):\n",
    "\tbot.reply_to(message, WELCOME_MSG)\n",
    "\n",
    "@bot.message_handler(content_types=['video', 'video_note', 'document'])\n",
    "def handle_docs_video(message):\n",
    "    # Get file\n",
    "    if message.content_type == 'video_note':\n",
    "        file_info = bot.get_file(message.video_note.file_id)\n",
    "    elif message.content_type == 'video':\n",
    "        file_info = bot.get_file(message.video.file_id)\n",
    "    elif message.content_type == 'document':\n",
    "        file_info = bot.get_file(message.document.file_id)\n",
    "    \n",
    "    ## Check if filetype is supported \n",
    "    file_type = file_info.file_path.split('.')[-1].lower()\n",
    "    if (file_type in ['mov', 'mp4']):\n",
    "        bot.reply_to(message, 'Detected file type: \"{}\". Congrats! It is supported!'.format(file_type))\n",
    "    else:\n",
    "        bot.reply_to(message, 'Detected file type: \"{}\". Sorry is not supported!'.format(file_type))\n",
    "    \n",
    "    ## Save temporary file\n",
    "    downloaded_file = bot.download_file(file_info.file_path)\n",
    "    temp_filename = str(file_info.file_path).split('/')[-1]\n",
    "    with open(temp_filename,'wb') as new_file:\n",
    "        new_file.write(downloaded_file)\n",
    "        \n",
    "    # Convert file\n",
    "    import ffmpeg\n",
    "    target_file_type = '.mov'\n",
    "    stream = ffmpeg.input(temp_filename)\n",
    "    output_name = '{}.{}'.format(target_file_type.split('.')[0], target_file_type)\n",
    "    stream = ffmpeg.output(stream, output_name)\n",
    "    ffmpeg.run(stream)\n",
    "    \n",
    "    # Send file\n",
    "    with open(output_name,'rb') as converted_file:\n",
    "        bot.send_document(message.chat.id, converted_file)\n",
    "#     with open('message.pickle', 'wb') as handle:\n",
    "#         pickle.dump(message, handle, protocol=pickle.HIGHEST_PROTOCOL)\n",
    "    \n",
    "\n",
    "@bot.message_handler(func=lambda message: True)\n",
    "def echo_all(message):\n",
    "\tbot.reply_to(message, message.text)\n",
    "\n",
    "bot.infinity_polling()"
   ]
  },
  {
   "cell_type": "code",
   "execution_count": 22,
   "id": "e8098920",
   "metadata": {},
   "outputs": [],
   "source": [
    "with open('message.pickle', 'rb') as handle:\n",
    "    b = pickle.load(handle)"
   ]
  },
  {
   "cell_type": "code",
   "execution_count": 27,
   "id": "f2867c6c",
   "metadata": {},
   "outputs": [
    {
     "data": {
      "text/plain": [
       "'IMG_2311.MOV'"
      ]
     },
     "execution_count": 27,
     "metadata": {},
     "output_type": "execute_result"
    }
   ],
   "source": [
    "b.document.file_name"
   ]
  },
  {
   "cell_type": "code",
   "execution_count": null,
   "id": "65e01b66",
   "metadata": {},
   "outputs": [],
   "source": []
  }
 ],
 "metadata": {
  "kernelspec": {
   "display_name": "Python 3",
   "language": "python",
   "name": "python3"
  },
  "language_info": {
   "codemirror_mode": {
    "name": "ipython",
    "version": 3
   },
   "file_extension": ".py",
   "mimetype": "text/x-python",
   "name": "python",
   "nbconvert_exporter": "python",
   "pygments_lexer": "ipython3",
   "version": "3.6.5"
  }
 },
 "nbformat": 4,
 "nbformat_minor": 5
}

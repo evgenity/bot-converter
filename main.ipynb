{
 "cells": [
  {
   "cell_type": "code",
   "execution_count": 1,
   "id": "8bb2fd23",
   "metadata": {},
   "outputs": [],
   "source": [
    "import pickle\n",
    "\n",
    "with open('message.pickle', 'wb') as handle:\n",
    "    pickle.dump(message, handle, protocol=pickle.HIGHEST_PROTOCOL)\n",
    "\n",
    "with open('message.pickle', 'rb') as handle:\n",
    "    b = pickle.load(handle)"
   ]
  },
  {
   "cell_type": "code",
   "execution_count": null,
   "id": "5897425a",
   "metadata": {},
   "outputs": [
    {
     "name": "stderr",
     "output_type": "stream",
     "text": [
      "2022-01-20 15:42:16,403 (__init__.py:621 MainThread) ERROR - TeleBot: \"Infinity polling exception: name 'temp_filename' is not defined\"\n",
      "2022-01-20 15:42:16,408 (__init__.py:623 MainThread) ERROR - TeleBot: \"Exception traceback:\n",
      "Traceback (most recent call last):\n",
      "  File \"/root/workspace/bot-converter/venv/lib/python3.8/site-packages/telebot/__init__.py\", line 617, in infinity_polling\n",
      "    self.polling(none_stop=True, timeout=timeout, long_polling_timeout=long_polling_timeout,\n",
      "  File \"/root/workspace/bot-converter/venv/lib/python3.8/site-packages/telebot/__init__.py\", line 664, in polling\n",
      "    self.__threaded_polling(non_stop, interval, timeout, long_polling_timeout, allowed_updates)\n",
      "  File \"/root/workspace/bot-converter/venv/lib/python3.8/site-packages/telebot/__init__.py\", line 726, in __threaded_polling\n",
      "    raise e\n",
      "  File \"/root/workspace/bot-converter/venv/lib/python3.8/site-packages/telebot/__init__.py\", line 686, in __threaded_polling\n",
      "    self.worker_pool.raise_exceptions()\n",
      "  File \"/root/workspace/bot-converter/venv/lib/python3.8/site-packages/telebot/util.py\", line 136, in raise_exceptions\n",
      "    raise self.exception_info\n",
      "  File \"/root/workspace/bot-converter/venv/lib/python3.8/site-packages/telebot/util.py\", line 88, in run\n",
      "    task(*args, **kwargs)\n",
      "  File \"<ipython-input-21-7115cfdafa43>\", line 54, in process_file\n",
      "    stream = ffmpeg.input(temp_filename)\n",
      "NameError: name 'temp_filename' is not defined\n",
      "\"\n"
     ]
    }
   ],
   "source": [
    "import telebot\n",
    "from telebot import types\n",
    "\n",
    "bot = telebot.TeleBot(\"5069674898:AAGdHYM4cn-ZqQqbhR2vke34ke8qMos1lTY\", parse_mode=None)\n",
    "\n",
    "WELCOME_MSG = \"👋 Howdy, how are you doing? \\\n",
    "I can convert video to the following formats: *.avi, *.gif, *.mov! \\\n",
    "Just upload a short video for me, and then choose file type you want.\"\n",
    "\n",
    "@bot.message_handler(commands=['start', 'help'])\n",
    "def send_welcome(message):\n",
    "\tbot.reply_to(message, WELCOME_MSG)\n",
    "\n",
    "@bot.message_handler(content_types=['video', 'video_note', 'document'])\n",
    "def handle_docs_video(message):\n",
    "    # Get file\n",
    "    if message.content_type == 'video_note':\n",
    "        file_info = bot.get_file(message.video_note.file_id)\n",
    "    elif message.content_type == 'video':\n",
    "        file_info = bot.get_file(message.video.file_id)\n",
    "    elif message.content_type == 'document':\n",
    "        file_info = bot.get_file(message.document.file_id)\n",
    "    \n",
    "    ## Check if filetype is supported \n",
    "    file_type = file_info.file_path.split('.')[-1].lower()\n",
    "    if (file_type in ['mov', 'mp4']):\n",
    "        bot.reply_to(message, 'Detected file type: \"{}\". Congrats! It is supported!'.format(file_type))\n",
    "    else:\n",
    "        bot.reply_to(message, 'Detected file type: \"{}\". Sorry is not supported!'.format(file_type))\n",
    "    \n",
    "    ## Save temporary file\n",
    "    downloaded_file = bot.download_file(file_info.file_path)\n",
    "    temp_filename = str(file_info.file_path).split('/')[-1]\n",
    "    with open(temp_filename,'wb') as new_file:\n",
    "        new_file.write(downloaded_file)\n",
    "        \n",
    "    # Get target filetype\n",
    "    markup = types.ReplyKeyboardMarkup(row_width=2)\n",
    "    itembtn1 = types.KeyboardButton('/avi')\n",
    "    itembtn2 = types.KeyboardButton('/mov')\n",
    "    itembtn3 = types.KeyboardButton('/mp4')\n",
    "    \n",
    "    markup.add(itembtn1, itembtn2, itembtn3)\n",
    "    bot.send_message(message.chat.id, \"Choose the target file type:\", reply_markup=markup)\n",
    "\n",
    "@bot.message_handler(commands=['avi', 'mov', 'mp4'])\n",
    "def process_file(message):\n",
    "    markup = types.ReplyKeyboardRemove(selective=False)\n",
    "    bot.send_message(message.chat.id, 'You\\'ve chosen .{} format'.format(message.text[1:]), reply_markup=markup)\n",
    "    \n",
    "    # Convert file\n",
    "    import ffmpeg\n",
    "    target_file_type = 'mov'\n",
    "    stream = ffmpeg.input(temp_filename)\n",
    "    output_name = '{}.{}'.format(temp_filename.split('.')[0], target_file_type)\n",
    "    stream = ffmpeg.output(stream, output_name)\n",
    "    ffmpeg.run(stream)\n",
    "    \n",
    "    # Send file\n",
    "    with open(output_name,'rb') as converted_file:\n",
    "        bot.send_document(message.chat.id, converted_file)\n",
    "    \n",
    "\n",
    "@bot.message_handler(func=lambda message: True)\n",
    "def echo_all(message):\n",
    "\tbot.reply_to(message, message.text)\n",
    "\n",
    "bot.infinity_polling()"
   ]
  },
  {
   "cell_type": "code",
   "execution_count": 11,
   "id": "e8098920",
   "metadata": {},
   "outputs": [
    {
     "ename": "NameError",
     "evalue": "name 'pickle' is not defined",
     "output_type": "error",
     "traceback": [
      "\u001b[0;31m---------------------------------------------------------------------------\u001b[0m",
      "\u001b[0;31mNameError\u001b[0m                                 Traceback (most recent call last)",
      "\u001b[0;32m<ipython-input-11-f25f08eab559>\u001b[0m in \u001b[0;36m<module>\u001b[0;34m\u001b[0m\n\u001b[1;32m      1\u001b[0m \u001b[0;32mwith\u001b[0m \u001b[0mopen\u001b[0m\u001b[0;34m(\u001b[0m\u001b[0;34m'message.pickle'\u001b[0m\u001b[0;34m,\u001b[0m \u001b[0;34m'rb'\u001b[0m\u001b[0;34m)\u001b[0m \u001b[0;32mas\u001b[0m \u001b[0mhandle\u001b[0m\u001b[0;34m:\u001b[0m\u001b[0;34m\u001b[0m\u001b[0;34m\u001b[0m\u001b[0m\n\u001b[0;32m----> 2\u001b[0;31m     \u001b[0mb\u001b[0m \u001b[0;34m=\u001b[0m \u001b[0mpickle\u001b[0m\u001b[0;34m.\u001b[0m\u001b[0mload\u001b[0m\u001b[0;34m(\u001b[0m\u001b[0mhandle\u001b[0m\u001b[0;34m)\u001b[0m\u001b[0;34m\u001b[0m\u001b[0;34m\u001b[0m\u001b[0m\n\u001b[0m",
      "\u001b[0;31mNameError\u001b[0m: name 'pickle' is not defined"
     ]
    }
   ],
   "source": [
    "with open('message.pickle', 'rb') as handle:\n",
    "    b = pickle.load(handle)"
   ]
  },
  {
   "cell_type": "code",
   "execution_count": 27,
   "id": "f2867c6c",
   "metadata": {},
   "outputs": [
    {
     "data": {
      "text/plain": [
       "'IMG_2311.MOV'"
      ]
     },
     "execution_count": 27,
     "metadata": {},
     "output_type": "execute_result"
    }
   ],
   "source": [
    "b.document.file_name"
   ]
  },
  {
   "cell_type": "code",
   "execution_count": null,
   "id": "65e01b66",
   "metadata": {},
   "outputs": [],
   "source": []
  }
 ],
 "metadata": {
  "kernelspec": {
   "display_name": "Python 3",
   "language": "python",
   "name": "python3"
  },
  "language_info": {
   "codemirror_mode": {
    "name": "ipython",
    "version": 3
   },
   "file_extension": ".py",
   "mimetype": "text/x-python",
   "name": "python",
   "nbconvert_exporter": "python",
   "pygments_lexer": "ipython3",
   "version": "3.8.10"
  }
 },
 "nbformat": 4,
 "nbformat_minor": 5
}
